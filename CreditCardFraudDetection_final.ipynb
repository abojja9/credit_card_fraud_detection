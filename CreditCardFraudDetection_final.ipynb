{
 "cells": [
  {
   "cell_type": "markdown",
   "metadata": {
    "id": "MdsxnEs3wF7t"
   },
   "source": [
    "# Credit Card Fraud Detection\n"
   ]
  },
  {
   "cell_type": "markdown",
   "metadata": {
    "id": "Hvr_EEQB8FrD"
   },
   "source": [
    "# 0. Outline"
   ]
  },
  {
   "cell_type": "markdown",
   "metadata": {
    "id": "ZpIQlW7u7rbR"
   },
   "source": [
    "The notebook is oraganized in four Parts.\n",
    "1. Introduction\n",
    "2. Model Develpoment\n",
    "3. Model Deployment as a REST API\n",
    "4. Conclusion"
   ]
  },
  {
   "cell_type": "markdown",
   "metadata": {
    "id": "4Uu1aY41mX8I"
   },
   "source": [
    "# 1. Introduction"
   ]
  },
  {
   "cell_type": "markdown",
   "metadata": {
    "id": "hHZvpVXjmee8"
   },
   "source": [
    "In this assignment, we create a credit Card Fraud Detection model using the credit card Fraud data from Kaggle (https://www.kaggle.com/mlg-ulb/creditcardfraud?select=creditcard.csv) and then deploy to the Azure Cloud as a REST API with the help of Azure Functions."
   ]
  },
  {
   "cell_type": "markdown",
   "metadata": {
    "id": "5z-kk2QLo1zn"
   },
   "source": [
    "# 2. Model Development"
   ]
  },
  {
   "cell_type": "code",
   "execution_count": 1,
   "metadata": {
    "colab": {
     "base_uri": "https://localhost:8080/"
    },
    "id": "6iTwG78iv--J",
    "outputId": "4f298467-04ce-49f1-b313-bf6737e9f68b"
   },
   "outputs": [
    {
     "name": "stderr",
     "output_type": "stream",
     "text": [
      "/usr/local/lib/python3.7/dist-packages/sklearn/externals/six.py:31: FutureWarning: The module is deprecated in version 0.21 and will be removed in version 0.23 since we've dropped support for Python 2.7. Please rely on the official version of six (https://pypi.org/project/six/).\n",
      "  \"(https://pypi.org/project/six/).\", FutureWarning)\n",
      "/usr/local/lib/python3.7/dist-packages/sklearn/utils/deprecation.py:144: FutureWarning: The sklearn.neighbors.base module is  deprecated in version 0.22 and will be removed in version 0.24. The corresponding classes / functions should instead be imported from sklearn.neighbors. Anything that cannot be imported from sklearn.neighbors is now part of the private API.\n",
      "  warnings.warn(message, FutureWarning)\n"
     ]
    }
   ],
   "source": [
    "import numpy as np\n",
    "import os\n",
    "import pandas as pd\n",
    "pd.set_option(\"display.float\", \"{:.2f}\".format)\n",
    "from sklearn.model_selection import train_test_split\n",
    "from imblearn.over_sampling import SMOTE\n",
    "from sklearn.ensemble import RandomForestClassifier\n",
    "import matplotlib.pyplot as plt\n",
    "import seaborn as sns\n",
    "import pickle\n",
    "from sklearn.metrics import plot_confusion_matrix, plot_roc_curve, classification_report\n",
    "import warnings\n",
    "warnings.filterwarnings(\"ignore\")\n",
    "%matplotlib inline"
   ]
  },
  {
   "cell_type": "code",
   "execution_count": 2,
   "metadata": {
    "colab": {
     "base_uri": "https://localhost:8080/"
    },
    "id": "h2fZFAz9lmEd",
    "outputId": "9e45b803-090e-4518-9a9e-0d4cf803695b"
   },
   "outputs": [
    {
     "name": "stdout",
     "output_type": "stream",
     "text": [
      "Drive already mounted at /content/drive; to attempt to forcibly remount, call drive.mount(\"/content/drive\", force_remount=True).\n"
     ]
    }
   ],
   "source": [
    "from google.colab import drive\n",
    "drive.mount('/content/drive')"
   ]
  },
  {
   "cell_type": "code",
   "execution_count": 3,
   "metadata": {
    "id": "pJezeG7uo7K1"
   },
   "outputs": [],
   "source": [
    "PATH =  \"/content/drive/MyDrive/SGSCo_Assessment\""
   ]
  },
  {
   "cell_type": "code",
   "execution_count": 4,
   "metadata": {
    "colab": {
     "base_uri": "https://localhost:8080/"
    },
    "id": "pFKRmrePqKIl",
    "outputId": "fe9f1e89-bd7b-4141-e6e9-662c9b5dc72e"
   },
   "outputs": [
    {
     "name": "stdout",
     "output_type": "stream",
     "text": [
      "Assignment_description.pdf  creditcard.csv.zip\tfraud_detection_saved_model.pkl\n",
      "AzureDeployment\t\t    example_1.json\n",
      "creditcard.csv\t\t    example.json\n"
     ]
    }
   ],
   "source": [
    "!ls {PATH}"
   ]
  },
  {
   "cell_type": "code",
   "execution_count": 5,
   "metadata": {
    "colab": {
     "base_uri": "https://localhost:8080/"
    },
    "id": "AhC0cxwwqj9K",
    "outputId": "9e0080b2-dc84-443d-8e27-bab0a565a791"
   },
   "outputs": [
    {
     "data": {
      "text/plain": [
       "True"
      ]
     },
     "execution_count": 5,
     "metadata": {
      "tags": []
     },
     "output_type": "execute_result"
    }
   ],
   "source": [
    "os.path.exists(PATH+\"/creditcard.csv\")"
   ]
  },
  {
   "cell_type": "markdown",
   "metadata": {
    "id": "LijncJHbtXLz"
   },
   "source": [
    "## Loading the Data"
   ]
  },
  {
   "cell_type": "code",
   "execution_count": 6,
   "metadata": {
    "colab": {
     "base_uri": "https://localhost:8080/",
     "height": 204
    },
    "id": "_GsixqJYrmpt",
    "outputId": "346f9dc3-dbdb-4156-e242-96f52353e92f"
   },
   "outputs": [
    {
     "data": {
      "text/html": [
       "<div>\n",
       "<style scoped>\n",
       "    .dataframe tbody tr th:only-of-type {\n",
       "        vertical-align: middle;\n",
       "    }\n",
       "\n",
       "    .dataframe tbody tr th {\n",
       "        vertical-align: top;\n",
       "    }\n",
       "\n",
       "    .dataframe thead th {\n",
       "        text-align: right;\n",
       "    }\n",
       "</style>\n",
       "<table border=\"1\" class=\"dataframe\">\n",
       "  <thead>\n",
       "    <tr style=\"text-align: right;\">\n",
       "      <th></th>\n",
       "      <th>Time</th>\n",
       "      <th>V1</th>\n",
       "      <th>V2</th>\n",
       "      <th>V3</th>\n",
       "      <th>V4</th>\n",
       "      <th>V5</th>\n",
       "      <th>V6</th>\n",
       "      <th>V7</th>\n",
       "      <th>V8</th>\n",
       "      <th>V9</th>\n",
       "      <th>V10</th>\n",
       "      <th>V11</th>\n",
       "      <th>V12</th>\n",
       "      <th>V13</th>\n",
       "      <th>V14</th>\n",
       "      <th>V15</th>\n",
       "      <th>V16</th>\n",
       "      <th>V17</th>\n",
       "      <th>V18</th>\n",
       "      <th>V19</th>\n",
       "      <th>V20</th>\n",
       "      <th>V21</th>\n",
       "      <th>V22</th>\n",
       "      <th>V23</th>\n",
       "      <th>V24</th>\n",
       "      <th>V25</th>\n",
       "      <th>V26</th>\n",
       "      <th>V27</th>\n",
       "      <th>V28</th>\n",
       "      <th>Amount</th>\n",
       "      <th>Class</th>\n",
       "    </tr>\n",
       "  </thead>\n",
       "  <tbody>\n",
       "    <tr>\n",
       "      <th>0</th>\n",
       "      <td>0.00</td>\n",
       "      <td>-1.36</td>\n",
       "      <td>-0.07</td>\n",
       "      <td>2.54</td>\n",
       "      <td>1.38</td>\n",
       "      <td>-0.34</td>\n",
       "      <td>0.46</td>\n",
       "      <td>0.24</td>\n",
       "      <td>0.10</td>\n",
       "      <td>0.36</td>\n",
       "      <td>0.09</td>\n",
       "      <td>-0.55</td>\n",
       "      <td>-0.62</td>\n",
       "      <td>-0.99</td>\n",
       "      <td>-0.31</td>\n",
       "      <td>1.47</td>\n",
       "      <td>-0.47</td>\n",
       "      <td>0.21</td>\n",
       "      <td>0.03</td>\n",
       "      <td>0.40</td>\n",
       "      <td>0.25</td>\n",
       "      <td>-0.02</td>\n",
       "      <td>0.28</td>\n",
       "      <td>-0.11</td>\n",
       "      <td>0.07</td>\n",
       "      <td>0.13</td>\n",
       "      <td>-0.19</td>\n",
       "      <td>0.13</td>\n",
       "      <td>-0.02</td>\n",
       "      <td>149.62</td>\n",
       "      <td>0</td>\n",
       "    </tr>\n",
       "    <tr>\n",
       "      <th>1</th>\n",
       "      <td>0.00</td>\n",
       "      <td>1.19</td>\n",
       "      <td>0.27</td>\n",
       "      <td>0.17</td>\n",
       "      <td>0.45</td>\n",
       "      <td>0.06</td>\n",
       "      <td>-0.08</td>\n",
       "      <td>-0.08</td>\n",
       "      <td>0.09</td>\n",
       "      <td>-0.26</td>\n",
       "      <td>-0.17</td>\n",
       "      <td>1.61</td>\n",
       "      <td>1.07</td>\n",
       "      <td>0.49</td>\n",
       "      <td>-0.14</td>\n",
       "      <td>0.64</td>\n",
       "      <td>0.46</td>\n",
       "      <td>-0.11</td>\n",
       "      <td>-0.18</td>\n",
       "      <td>-0.15</td>\n",
       "      <td>-0.07</td>\n",
       "      <td>-0.23</td>\n",
       "      <td>-0.64</td>\n",
       "      <td>0.10</td>\n",
       "      <td>-0.34</td>\n",
       "      <td>0.17</td>\n",
       "      <td>0.13</td>\n",
       "      <td>-0.01</td>\n",
       "      <td>0.01</td>\n",
       "      <td>2.69</td>\n",
       "      <td>0</td>\n",
       "    </tr>\n",
       "    <tr>\n",
       "      <th>2</th>\n",
       "      <td>1.00</td>\n",
       "      <td>-1.36</td>\n",
       "      <td>-1.34</td>\n",
       "      <td>1.77</td>\n",
       "      <td>0.38</td>\n",
       "      <td>-0.50</td>\n",
       "      <td>1.80</td>\n",
       "      <td>0.79</td>\n",
       "      <td>0.25</td>\n",
       "      <td>-1.51</td>\n",
       "      <td>0.21</td>\n",
       "      <td>0.62</td>\n",
       "      <td>0.07</td>\n",
       "      <td>0.72</td>\n",
       "      <td>-0.17</td>\n",
       "      <td>2.35</td>\n",
       "      <td>-2.89</td>\n",
       "      <td>1.11</td>\n",
       "      <td>-0.12</td>\n",
       "      <td>-2.26</td>\n",
       "      <td>0.52</td>\n",
       "      <td>0.25</td>\n",
       "      <td>0.77</td>\n",
       "      <td>0.91</td>\n",
       "      <td>-0.69</td>\n",
       "      <td>-0.33</td>\n",
       "      <td>-0.14</td>\n",
       "      <td>-0.06</td>\n",
       "      <td>-0.06</td>\n",
       "      <td>378.66</td>\n",
       "      <td>0</td>\n",
       "    </tr>\n",
       "    <tr>\n",
       "      <th>3</th>\n",
       "      <td>1.00</td>\n",
       "      <td>-0.97</td>\n",
       "      <td>-0.19</td>\n",
       "      <td>1.79</td>\n",
       "      <td>-0.86</td>\n",
       "      <td>-0.01</td>\n",
       "      <td>1.25</td>\n",
       "      <td>0.24</td>\n",
       "      <td>0.38</td>\n",
       "      <td>-1.39</td>\n",
       "      <td>-0.05</td>\n",
       "      <td>-0.23</td>\n",
       "      <td>0.18</td>\n",
       "      <td>0.51</td>\n",
       "      <td>-0.29</td>\n",
       "      <td>-0.63</td>\n",
       "      <td>-1.06</td>\n",
       "      <td>-0.68</td>\n",
       "      <td>1.97</td>\n",
       "      <td>-1.23</td>\n",
       "      <td>-0.21</td>\n",
       "      <td>-0.11</td>\n",
       "      <td>0.01</td>\n",
       "      <td>-0.19</td>\n",
       "      <td>-1.18</td>\n",
       "      <td>0.65</td>\n",
       "      <td>-0.22</td>\n",
       "      <td>0.06</td>\n",
       "      <td>0.06</td>\n",
       "      <td>123.50</td>\n",
       "      <td>0</td>\n",
       "    </tr>\n",
       "    <tr>\n",
       "      <th>4</th>\n",
       "      <td>2.00</td>\n",
       "      <td>-1.16</td>\n",
       "      <td>0.88</td>\n",
       "      <td>1.55</td>\n",
       "      <td>0.40</td>\n",
       "      <td>-0.41</td>\n",
       "      <td>0.10</td>\n",
       "      <td>0.59</td>\n",
       "      <td>-0.27</td>\n",
       "      <td>0.82</td>\n",
       "      <td>0.75</td>\n",
       "      <td>-0.82</td>\n",
       "      <td>0.54</td>\n",
       "      <td>1.35</td>\n",
       "      <td>-1.12</td>\n",
       "      <td>0.18</td>\n",
       "      <td>-0.45</td>\n",
       "      <td>-0.24</td>\n",
       "      <td>-0.04</td>\n",
       "      <td>0.80</td>\n",
       "      <td>0.41</td>\n",
       "      <td>-0.01</td>\n",
       "      <td>0.80</td>\n",
       "      <td>-0.14</td>\n",
       "      <td>0.14</td>\n",
       "      <td>-0.21</td>\n",
       "      <td>0.50</td>\n",
       "      <td>0.22</td>\n",
       "      <td>0.22</td>\n",
       "      <td>69.99</td>\n",
       "      <td>0</td>\n",
       "    </tr>\n",
       "  </tbody>\n",
       "</table>\n",
       "</div>"
      ],
      "text/plain": [
       "   Time    V1    V2   V3    V4    V5  ...   V25   V26   V27   V28  Amount  Class\n",
       "0  0.00 -1.36 -0.07 2.54  1.38 -0.34  ...  0.13 -0.19  0.13 -0.02  149.62      0\n",
       "1  0.00  1.19  0.27 0.17  0.45  0.06  ...  0.17  0.13 -0.01  0.01    2.69      0\n",
       "2  1.00 -1.36 -1.34 1.77  0.38 -0.50  ... -0.33 -0.14 -0.06 -0.06  378.66      0\n",
       "3  1.00 -0.97 -0.19 1.79 -0.86 -0.01  ...  0.65 -0.22  0.06  0.06  123.50      0\n",
       "4  2.00 -1.16  0.88 1.55  0.40 -0.41  ... -0.21  0.50  0.22  0.22   69.99      0\n",
       "\n",
       "[5 rows x 31 columns]"
      ]
     },
     "execution_count": 6,
     "metadata": {
      "tags": []
     },
     "output_type": "execute_result"
    }
   ],
   "source": [
    "data = pd.read_csv(PATH+\"/creditcard.csv\")\n",
    "data.head()"
   ]
  },
  {
   "cell_type": "markdown",
   "metadata": {
    "id": "sAMp1KqhtcEN"
   },
   "source": [
    "## Data Analysis"
   ]
  },
  {
   "cell_type": "code",
   "execution_count": 7,
   "metadata": {
    "colab": {
     "base_uri": "https://localhost:8080/"
    },
    "id": "ebiRyn6Tt2YH",
    "outputId": "951effa7-ce63-4177-fbea-3a4251a36f1d"
   },
   "outputs": [
    {
     "name": "stdout",
     "output_type": "stream",
     "text": [
      "<class 'pandas.core.frame.DataFrame'>\n",
      "RangeIndex: 284807 entries, 0 to 284806\n",
      "Data columns (total 31 columns):\n",
      " #   Column  Non-Null Count   Dtype  \n",
      "---  ------  --------------   -----  \n",
      " 0   Time    284807 non-null  float64\n",
      " 1   V1      284807 non-null  float64\n",
      " 2   V2      284807 non-null  float64\n",
      " 3   V3      284807 non-null  float64\n",
      " 4   V4      284807 non-null  float64\n",
      " 5   V5      284807 non-null  float64\n",
      " 6   V6      284807 non-null  float64\n",
      " 7   V7      284807 non-null  float64\n",
      " 8   V8      284807 non-null  float64\n",
      " 9   V9      284807 non-null  float64\n",
      " 10  V10     284807 non-null  float64\n",
      " 11  V11     284807 non-null  float64\n",
      " 12  V12     284807 non-null  float64\n",
      " 13  V13     284807 non-null  float64\n",
      " 14  V14     284807 non-null  float64\n",
      " 15  V15     284807 non-null  float64\n",
      " 16  V16     284807 non-null  float64\n",
      " 17  V17     284807 non-null  float64\n",
      " 18  V18     284807 non-null  float64\n",
      " 19  V19     284807 non-null  float64\n",
      " 20  V20     284807 non-null  float64\n",
      " 21  V21     284807 non-null  float64\n",
      " 22  V22     284807 non-null  float64\n",
      " 23  V23     284807 non-null  float64\n",
      " 24  V24     284807 non-null  float64\n",
      " 25  V25     284807 non-null  float64\n",
      " 26  V26     284807 non-null  float64\n",
      " 27  V27     284807 non-null  float64\n",
      " 28  V28     284807 non-null  float64\n",
      " 29  Amount  284807 non-null  float64\n",
      " 30  Class   284807 non-null  int64  \n",
      "dtypes: float64(30), int64(1)\n",
      "memory usage: 67.4 MB\n"
     ]
    }
   ],
   "source": [
    "data.info()"
   ]
  },
  {
   "cell_type": "code",
   "execution_count": 8,
   "metadata": {
    "colab": {
     "base_uri": "https://localhost:8080/",
     "height": 317
    },
    "id": "2DO9N6hfr3NZ",
    "outputId": "d93bb23f-3312-40e3-ea31-7b8057448d30"
   },
   "outputs": [
    {
     "data": {
      "text/html": [
       "<div>\n",
       "<style scoped>\n",
       "    .dataframe tbody tr th:only-of-type {\n",
       "        vertical-align: middle;\n",
       "    }\n",
       "\n",
       "    .dataframe tbody tr th {\n",
       "        vertical-align: top;\n",
       "    }\n",
       "\n",
       "    .dataframe thead th {\n",
       "        text-align: right;\n",
       "    }\n",
       "</style>\n",
       "<table border=\"1\" class=\"dataframe\">\n",
       "  <thead>\n",
       "    <tr style=\"text-align: right;\">\n",
       "      <th></th>\n",
       "      <th>Time</th>\n",
       "      <th>V1</th>\n",
       "      <th>V2</th>\n",
       "      <th>V3</th>\n",
       "      <th>V4</th>\n",
       "      <th>V5</th>\n",
       "      <th>V6</th>\n",
       "      <th>V7</th>\n",
       "      <th>V8</th>\n",
       "      <th>V9</th>\n",
       "      <th>V10</th>\n",
       "      <th>V11</th>\n",
       "      <th>V12</th>\n",
       "      <th>V13</th>\n",
       "      <th>V14</th>\n",
       "      <th>V15</th>\n",
       "      <th>V16</th>\n",
       "      <th>V17</th>\n",
       "      <th>V18</th>\n",
       "      <th>V19</th>\n",
       "      <th>V20</th>\n",
       "      <th>V21</th>\n",
       "      <th>V22</th>\n",
       "      <th>V23</th>\n",
       "      <th>V24</th>\n",
       "      <th>V25</th>\n",
       "      <th>V26</th>\n",
       "      <th>V27</th>\n",
       "      <th>V28</th>\n",
       "      <th>Amount</th>\n",
       "      <th>Class</th>\n",
       "    </tr>\n",
       "  </thead>\n",
       "  <tbody>\n",
       "    <tr>\n",
       "      <th>count</th>\n",
       "      <td>284807.00</td>\n",
       "      <td>284807.00</td>\n",
       "      <td>284807.00</td>\n",
       "      <td>284807.00</td>\n",
       "      <td>284807.00</td>\n",
       "      <td>284807.00</td>\n",
       "      <td>284807.00</td>\n",
       "      <td>284807.00</td>\n",
       "      <td>284807.00</td>\n",
       "      <td>284807.00</td>\n",
       "      <td>284807.00</td>\n",
       "      <td>284807.00</td>\n",
       "      <td>284807.00</td>\n",
       "      <td>284807.00</td>\n",
       "      <td>284807.00</td>\n",
       "      <td>284807.00</td>\n",
       "      <td>284807.00</td>\n",
       "      <td>284807.00</td>\n",
       "      <td>284807.00</td>\n",
       "      <td>284807.00</td>\n",
       "      <td>284807.00</td>\n",
       "      <td>284807.00</td>\n",
       "      <td>284807.00</td>\n",
       "      <td>284807.00</td>\n",
       "      <td>284807.00</td>\n",
       "      <td>284807.00</td>\n",
       "      <td>284807.00</td>\n",
       "      <td>284807.00</td>\n",
       "      <td>284807.00</td>\n",
       "      <td>284807.00</td>\n",
       "      <td>284807.00</td>\n",
       "    </tr>\n",
       "    <tr>\n",
       "      <th>mean</th>\n",
       "      <td>94813.86</td>\n",
       "      <td>0.00</td>\n",
       "      <td>0.00</td>\n",
       "      <td>-0.00</td>\n",
       "      <td>0.00</td>\n",
       "      <td>-0.00</td>\n",
       "      <td>0.00</td>\n",
       "      <td>-0.00</td>\n",
       "      <td>-0.00</td>\n",
       "      <td>-0.00</td>\n",
       "      <td>0.00</td>\n",
       "      <td>0.00</td>\n",
       "      <td>-0.00</td>\n",
       "      <td>0.00</td>\n",
       "      <td>0.00</td>\n",
       "      <td>0.00</td>\n",
       "      <td>0.00</td>\n",
       "      <td>-0.00</td>\n",
       "      <td>0.00</td>\n",
       "      <td>0.00</td>\n",
       "      <td>0.00</td>\n",
       "      <td>0.00</td>\n",
       "      <td>0.00</td>\n",
       "      <td>0.00</td>\n",
       "      <td>0.00</td>\n",
       "      <td>0.00</td>\n",
       "      <td>0.00</td>\n",
       "      <td>-0.00</td>\n",
       "      <td>-0.00</td>\n",
       "      <td>88.35</td>\n",
       "      <td>0.00</td>\n",
       "    </tr>\n",
       "    <tr>\n",
       "      <th>std</th>\n",
       "      <td>47488.15</td>\n",
       "      <td>1.96</td>\n",
       "      <td>1.65</td>\n",
       "      <td>1.52</td>\n",
       "      <td>1.42</td>\n",
       "      <td>1.38</td>\n",
       "      <td>1.33</td>\n",
       "      <td>1.24</td>\n",
       "      <td>1.19</td>\n",
       "      <td>1.10</td>\n",
       "      <td>1.09</td>\n",
       "      <td>1.02</td>\n",
       "      <td>1.00</td>\n",
       "      <td>1.00</td>\n",
       "      <td>0.96</td>\n",
       "      <td>0.92</td>\n",
       "      <td>0.88</td>\n",
       "      <td>0.85</td>\n",
       "      <td>0.84</td>\n",
       "      <td>0.81</td>\n",
       "      <td>0.77</td>\n",
       "      <td>0.73</td>\n",
       "      <td>0.73</td>\n",
       "      <td>0.62</td>\n",
       "      <td>0.61</td>\n",
       "      <td>0.52</td>\n",
       "      <td>0.48</td>\n",
       "      <td>0.40</td>\n",
       "      <td>0.33</td>\n",
       "      <td>250.12</td>\n",
       "      <td>0.04</td>\n",
       "    </tr>\n",
       "    <tr>\n",
       "      <th>min</th>\n",
       "      <td>0.00</td>\n",
       "      <td>-56.41</td>\n",
       "      <td>-72.72</td>\n",
       "      <td>-48.33</td>\n",
       "      <td>-5.68</td>\n",
       "      <td>-113.74</td>\n",
       "      <td>-26.16</td>\n",
       "      <td>-43.56</td>\n",
       "      <td>-73.22</td>\n",
       "      <td>-13.43</td>\n",
       "      <td>-24.59</td>\n",
       "      <td>-4.80</td>\n",
       "      <td>-18.68</td>\n",
       "      <td>-5.79</td>\n",
       "      <td>-19.21</td>\n",
       "      <td>-4.50</td>\n",
       "      <td>-14.13</td>\n",
       "      <td>-25.16</td>\n",
       "      <td>-9.50</td>\n",
       "      <td>-7.21</td>\n",
       "      <td>-54.50</td>\n",
       "      <td>-34.83</td>\n",
       "      <td>-10.93</td>\n",
       "      <td>-44.81</td>\n",
       "      <td>-2.84</td>\n",
       "      <td>-10.30</td>\n",
       "      <td>-2.60</td>\n",
       "      <td>-22.57</td>\n",
       "      <td>-15.43</td>\n",
       "      <td>0.00</td>\n",
       "      <td>0.00</td>\n",
       "    </tr>\n",
       "    <tr>\n",
       "      <th>25%</th>\n",
       "      <td>54201.50</td>\n",
       "      <td>-0.92</td>\n",
       "      <td>-0.60</td>\n",
       "      <td>-0.89</td>\n",
       "      <td>-0.85</td>\n",
       "      <td>-0.69</td>\n",
       "      <td>-0.77</td>\n",
       "      <td>-0.55</td>\n",
       "      <td>-0.21</td>\n",
       "      <td>-0.64</td>\n",
       "      <td>-0.54</td>\n",
       "      <td>-0.76</td>\n",
       "      <td>-0.41</td>\n",
       "      <td>-0.65</td>\n",
       "      <td>-0.43</td>\n",
       "      <td>-0.58</td>\n",
       "      <td>-0.47</td>\n",
       "      <td>-0.48</td>\n",
       "      <td>-0.50</td>\n",
       "      <td>-0.46</td>\n",
       "      <td>-0.21</td>\n",
       "      <td>-0.23</td>\n",
       "      <td>-0.54</td>\n",
       "      <td>-0.16</td>\n",
       "      <td>-0.35</td>\n",
       "      <td>-0.32</td>\n",
       "      <td>-0.33</td>\n",
       "      <td>-0.07</td>\n",
       "      <td>-0.05</td>\n",
       "      <td>5.60</td>\n",
       "      <td>0.00</td>\n",
       "    </tr>\n",
       "    <tr>\n",
       "      <th>50%</th>\n",
       "      <td>84692.00</td>\n",
       "      <td>0.02</td>\n",
       "      <td>0.07</td>\n",
       "      <td>0.18</td>\n",
       "      <td>-0.02</td>\n",
       "      <td>-0.05</td>\n",
       "      <td>-0.27</td>\n",
       "      <td>0.04</td>\n",
       "      <td>0.02</td>\n",
       "      <td>-0.05</td>\n",
       "      <td>-0.09</td>\n",
       "      <td>-0.03</td>\n",
       "      <td>0.14</td>\n",
       "      <td>-0.01</td>\n",
       "      <td>0.05</td>\n",
       "      <td>0.05</td>\n",
       "      <td>0.07</td>\n",
       "      <td>-0.07</td>\n",
       "      <td>-0.00</td>\n",
       "      <td>0.00</td>\n",
       "      <td>-0.06</td>\n",
       "      <td>-0.03</td>\n",
       "      <td>0.01</td>\n",
       "      <td>-0.01</td>\n",
       "      <td>0.04</td>\n",
       "      <td>0.02</td>\n",
       "      <td>-0.05</td>\n",
       "      <td>0.00</td>\n",
       "      <td>0.01</td>\n",
       "      <td>22.00</td>\n",
       "      <td>0.00</td>\n",
       "    </tr>\n",
       "    <tr>\n",
       "      <th>75%</th>\n",
       "      <td>139320.50</td>\n",
       "      <td>1.32</td>\n",
       "      <td>0.80</td>\n",
       "      <td>1.03</td>\n",
       "      <td>0.74</td>\n",
       "      <td>0.61</td>\n",
       "      <td>0.40</td>\n",
       "      <td>0.57</td>\n",
       "      <td>0.33</td>\n",
       "      <td>0.60</td>\n",
       "      <td>0.45</td>\n",
       "      <td>0.74</td>\n",
       "      <td>0.62</td>\n",
       "      <td>0.66</td>\n",
       "      <td>0.49</td>\n",
       "      <td>0.65</td>\n",
       "      <td>0.52</td>\n",
       "      <td>0.40</td>\n",
       "      <td>0.50</td>\n",
       "      <td>0.46</td>\n",
       "      <td>0.13</td>\n",
       "      <td>0.19</td>\n",
       "      <td>0.53</td>\n",
       "      <td>0.15</td>\n",
       "      <td>0.44</td>\n",
       "      <td>0.35</td>\n",
       "      <td>0.24</td>\n",
       "      <td>0.09</td>\n",
       "      <td>0.08</td>\n",
       "      <td>77.16</td>\n",
       "      <td>0.00</td>\n",
       "    </tr>\n",
       "    <tr>\n",
       "      <th>max</th>\n",
       "      <td>172792.00</td>\n",
       "      <td>2.45</td>\n",
       "      <td>22.06</td>\n",
       "      <td>9.38</td>\n",
       "      <td>16.88</td>\n",
       "      <td>34.80</td>\n",
       "      <td>73.30</td>\n",
       "      <td>120.59</td>\n",
       "      <td>20.01</td>\n",
       "      <td>15.59</td>\n",
       "      <td>23.75</td>\n",
       "      <td>12.02</td>\n",
       "      <td>7.85</td>\n",
       "      <td>7.13</td>\n",
       "      <td>10.53</td>\n",
       "      <td>8.88</td>\n",
       "      <td>17.32</td>\n",
       "      <td>9.25</td>\n",
       "      <td>5.04</td>\n",
       "      <td>5.59</td>\n",
       "      <td>39.42</td>\n",
       "      <td>27.20</td>\n",
       "      <td>10.50</td>\n",
       "      <td>22.53</td>\n",
       "      <td>4.58</td>\n",
       "      <td>7.52</td>\n",
       "      <td>3.52</td>\n",
       "      <td>31.61</td>\n",
       "      <td>33.85</td>\n",
       "      <td>25691.16</td>\n",
       "      <td>1.00</td>\n",
       "    </tr>\n",
       "  </tbody>\n",
       "</table>\n",
       "</div>"
      ],
      "text/plain": [
       "           Time        V1        V2  ...       V28    Amount     Class\n",
       "count 284807.00 284807.00 284807.00  ... 284807.00 284807.00 284807.00\n",
       "mean   94813.86      0.00      0.00  ...     -0.00     88.35      0.00\n",
       "std    47488.15      1.96      1.65  ...      0.33    250.12      0.04\n",
       "min        0.00    -56.41    -72.72  ...    -15.43      0.00      0.00\n",
       "25%    54201.50     -0.92     -0.60  ...     -0.05      5.60      0.00\n",
       "50%    84692.00      0.02      0.07  ...      0.01     22.00      0.00\n",
       "75%   139320.50      1.32      0.80  ...      0.08     77.16      0.00\n",
       "max   172792.00      2.45     22.06  ...     33.85  25691.16      1.00\n",
       "\n",
       "[8 rows x 31 columns]"
      ]
     },
     "execution_count": 8,
     "metadata": {
      "tags": []
     },
     "output_type": "execute_result"
    }
   ],
   "source": [
    "data.describe()"
   ]
  },
  {
   "cell_type": "code",
   "execution_count": 9,
   "metadata": {
    "colab": {
     "base_uri": "https://localhost:8080/"
    },
    "id": "t1wawBe36yuN",
    "outputId": "85f19c5d-1201-443d-a7d5-ca0a8d2873f8"
   },
   "outputs": [
    {
     "data": {
      "text/plain": [
       "Time      0\n",
       "V1        0\n",
       "V2        0\n",
       "V3        0\n",
       "V4        0\n",
       "V5        0\n",
       "V6        0\n",
       "V7        0\n",
       "V8        0\n",
       "V9        0\n",
       "V10       0\n",
       "V11       0\n",
       "V12       0\n",
       "V13       0\n",
       "V14       0\n",
       "V15       0\n",
       "V16       0\n",
       "V17       0\n",
       "V18       0\n",
       "V19       0\n",
       "V20       0\n",
       "V21       0\n",
       "V22       0\n",
       "V23       0\n",
       "V24       0\n",
       "V25       0\n",
       "V26       0\n",
       "V27       0\n",
       "V28       0\n",
       "Amount    0\n",
       "Class     0\n",
       "dtype: int64"
      ]
     },
     "execution_count": 9,
     "metadata": {
      "tags": []
     },
     "output_type": "execute_result"
    }
   ],
   "source": [
    "# checking for null values\n",
    "data.isna().sum()"
   ]
  },
  {
   "cell_type": "markdown",
   "metadata": {
    "id": "PQapZEer67Cj"
   },
   "source": [
    "We can see that there are no missing values."
   ]
  },
  {
   "cell_type": "code",
   "execution_count": 10,
   "metadata": {
    "colab": {
     "base_uri": "https://localhost:8080/"
    },
    "id": "L2UiZI_eswm6",
    "outputId": "0966b6a5-b61e-424a-996f-357c6e8eebdc"
   },
   "outputs": [
    {
     "data": {
      "text/plain": [
       "0    284315\n",
       "1       492\n",
       "Name: Class, dtype: int64"
      ]
     },
     "execution_count": 10,
     "metadata": {
      "tags": []
     },
     "output_type": "execute_result"
    }
   ],
   "source": [
    "# Getting individual class counts\n",
    "data['Class'].value_counts()"
   ]
  },
  {
   "cell_type": "code",
   "execution_count": 11,
   "metadata": {
    "colab": {
     "base_uri": "https://localhost:8080/"
    },
    "id": "ILolLB-w6oUz",
    "outputId": "eacdbad3-a73c-4f32-d941-91d343077be8"
   },
   "outputs": [
    {
     "data": {
      "text/plain": [
       "492"
      ]
     },
     "execution_count": 11,
     "metadata": {
      "tags": []
     },
     "output_type": "execute_result"
    }
   ],
   "source": [
    "len(data.index[data['Class']==1].to_list())"
   ]
  },
  {
   "cell_type": "code",
   "execution_count": 12,
   "metadata": {
    "colab": {
     "base_uri": "https://localhost:8080/",
     "height": 279
    },
    "id": "w_ZVctOY9TtP",
    "outputId": "ca01510c-efe8-4ffa-a537-b5789a207a1d"
   },
   "outputs": [
    {
     "data": {
      "image/png": "[encoded data removed]",
      "text/plain": [
       "<Figure size 432x288 with 1 Axes>"
      ]
     },
     "metadata": {
      "needs_background": "light",
      "tags": []
     },
     "output_type": "display_data"
    }
   ],
   "source": [
    "# Plotting the Classes distribution\n",
    "fig = sns.countplot(x = 'Class', data = data)\n",
    "fig.set_xticklabels(labels=['Normal', 'Fraud'], rotation=0);"
   ]
  },
  {
   "cell_type": "code",
   "execution_count": 13,
   "metadata": {
    "colab": {
     "base_uri": "https://localhost:8080/",
     "height": 252
    },
    "id": "QO7J_bIx9rkd",
    "outputId": "e551c48e-97e4-447a-c777-237ca9fe3318"
   },
   "outputs": [
    {
     "data": {
      "image/png": "[encoded data removed]",
      "text/plain": [
       "<Figure size 432x288 with 1 Axes>"
      ]
     },
     "metadata": {
      "tags": []
     },
     "output_type": "display_data"
    }
   ],
   "source": [
    "# Plotting as a Pie Diagram\n",
    "labels = 'Normal', 'Fraud'\n",
    "explode = (0, 0.2)\n",
    "\n",
    "fig1, ax1 = plt.subplots()\n",
    "ax1.pie(data['Class'].value_counts(), explode=explode, labels=labels, autopct='%1.1f%%',\n",
    "        shadow=True, startangle=60)\n",
    "ax1.axis('equal')\n",
    "plt.show()"
   ]
  },
  {
   "cell_type": "markdown",
   "metadata": {
    "id": "tsm__CQBwdZY"
   },
   "source": [
    "We can see that the data is imbalanced i.e the number of transactions with label `0` (Normal transactions) : `284315` is much greater than the Label `1` (Fraud Transanctions) : `492`. As the data is imbalanced, any machine learning model it's difficult for any machine learning model to learn about the minority class model and can have a high possibility to predict the Fraud transaction as Normal, which is not desired.\n",
    "\n",
    "To avoid the class imbalance problem, we can use sampling techinques (Over Sampling, Under Sampling, Synthetic Sampling). By sampling, we can show same number of examples of all classes while training the model. This helps in making the data more class balanced while training."
   ]
  },
  {
   "cell_type": "markdown",
   "metadata": {
    "id": "XZQ_Abwd-UnQ"
   },
   "source": [
    "### Finding correlation between the features"
   ]
  },
  {
   "cell_type": "code",
   "execution_count": 14,
   "metadata": {
    "colab": {
     "base_uri": "https://localhost:8080/",
     "height": 625
    },
    "id": "Gu6GVEkW-Pjy",
    "outputId": "c1a49d79-087b-47a0-dd2f-af98cf54f4ff"
   },
   "outputs": [
    {
     "data": {
      "image/png": "[encoded data removed]",
      "text/plain": [
       "<Figure size 1080x720 with 2 Axes>"
      ]
     },
     "metadata": {
      "needs_background": "light",
      "tags": []
     },
     "output_type": "display_data"
    }
   ],
   "source": [
    "correlation_matrix = data.corr()\n",
    "plt.figure(figsize=(15, 10))\n",
    "sns.heatmap(correlation_matrix, \n",
    "            annot=False, \n",
    "            linewidths=0.5, \n",
    "            fmt= \".2f\", \n",
    "            cmap=\"YlGnBu\");"
   ]
  },
  {
   "cell_type": "markdown",
   "metadata": {
    "id": "d7Qm5Td_pZ1I"
   },
   "source": [
    "This shows that the features of the data are mostly self correlated and there is less cross correaltion between other features."
   ]
  },
  {
   "cell_type": "code",
   "execution_count": 15,
   "metadata": {
    "colab": {
     "base_uri": "https://localhost:8080/"
    },
    "id": "wcficAVGvGRE",
    "outputId": "034cbc69-b66c-4c41-cacc-1dae8d0644fe"
   },
   "outputs": [
    {
     "data": {
      "text/plain": [
       "(284807, 30)"
      ]
     },
     "execution_count": 15,
     "metadata": {
      "tags": []
     },
     "output_type": "execute_result"
    }
   ],
   "source": [
    "Y = data['Class']\n",
    "X = data.drop('Class', axis=1)\n",
    "X.shape"
   ]
  },
  {
   "cell_type": "code",
   "execution_count": 16,
   "metadata": {
    "colab": {
     "base_uri": "https://localhost:8080/",
     "height": 204
    },
    "id": "wgd7f1qc21ZW",
    "outputId": "c5eec93a-fe53-4cc0-86ae-fa62cfdec1c0"
   },
   "outputs": [
    {
     "data": {
      "text/html": [
       "<div>\n",
       "<style scoped>\n",
       "    .dataframe tbody tr th:only-of-type {\n",
       "        vertical-align: middle;\n",
       "    }\n",
       "\n",
       "    .dataframe tbody tr th {\n",
       "        vertical-align: top;\n",
       "    }\n",
       "\n",
       "    .dataframe thead th {\n",
       "        text-align: right;\n",
       "    }\n",
       "</style>\n",
       "<table border=\"1\" class=\"dataframe\">\n",
       "  <thead>\n",
       "    <tr style=\"text-align: right;\">\n",
       "      <th></th>\n",
       "      <th>Time</th>\n",
       "      <th>V1</th>\n",
       "      <th>V2</th>\n",
       "      <th>V3</th>\n",
       "      <th>V4</th>\n",
       "      <th>V5</th>\n",
       "      <th>V6</th>\n",
       "      <th>V7</th>\n",
       "      <th>V8</th>\n",
       "      <th>V9</th>\n",
       "      <th>V10</th>\n",
       "      <th>V11</th>\n",
       "      <th>V12</th>\n",
       "      <th>V13</th>\n",
       "      <th>V14</th>\n",
       "      <th>V15</th>\n",
       "      <th>V16</th>\n",
       "      <th>V17</th>\n",
       "      <th>V18</th>\n",
       "      <th>V19</th>\n",
       "      <th>V20</th>\n",
       "      <th>V21</th>\n",
       "      <th>V22</th>\n",
       "      <th>V23</th>\n",
       "      <th>V24</th>\n",
       "      <th>V25</th>\n",
       "      <th>V26</th>\n",
       "      <th>V27</th>\n",
       "      <th>V28</th>\n",
       "      <th>Amount</th>\n",
       "    </tr>\n",
       "  </thead>\n",
       "  <tbody>\n",
       "    <tr>\n",
       "      <th>0</th>\n",
       "      <td>0.00</td>\n",
       "      <td>-1.36</td>\n",
       "      <td>-0.07</td>\n",
       "      <td>2.54</td>\n",
       "      <td>1.38</td>\n",
       "      <td>-0.34</td>\n",
       "      <td>0.46</td>\n",
       "      <td>0.24</td>\n",
       "      <td>0.10</td>\n",
       "      <td>0.36</td>\n",
       "      <td>0.09</td>\n",
       "      <td>-0.55</td>\n",
       "      <td>-0.62</td>\n",
       "      <td>-0.99</td>\n",
       "      <td>-0.31</td>\n",
       "      <td>1.47</td>\n",
       "      <td>-0.47</td>\n",
       "      <td>0.21</td>\n",
       "      <td>0.03</td>\n",
       "      <td>0.40</td>\n",
       "      <td>0.25</td>\n",
       "      <td>-0.02</td>\n",
       "      <td>0.28</td>\n",
       "      <td>-0.11</td>\n",
       "      <td>0.07</td>\n",
       "      <td>0.13</td>\n",
       "      <td>-0.19</td>\n",
       "      <td>0.13</td>\n",
       "      <td>-0.02</td>\n",
       "      <td>149.62</td>\n",
       "    </tr>\n",
       "    <tr>\n",
       "      <th>1</th>\n",
       "      <td>0.00</td>\n",
       "      <td>1.19</td>\n",
       "      <td>0.27</td>\n",
       "      <td>0.17</td>\n",
       "      <td>0.45</td>\n",
       "      <td>0.06</td>\n",
       "      <td>-0.08</td>\n",
       "      <td>-0.08</td>\n",
       "      <td>0.09</td>\n",
       "      <td>-0.26</td>\n",
       "      <td>-0.17</td>\n",
       "      <td>1.61</td>\n",
       "      <td>1.07</td>\n",
       "      <td>0.49</td>\n",
       "      <td>-0.14</td>\n",
       "      <td>0.64</td>\n",
       "      <td>0.46</td>\n",
       "      <td>-0.11</td>\n",
       "      <td>-0.18</td>\n",
       "      <td>-0.15</td>\n",
       "      <td>-0.07</td>\n",
       "      <td>-0.23</td>\n",
       "      <td>-0.64</td>\n",
       "      <td>0.10</td>\n",
       "      <td>-0.34</td>\n",
       "      <td>0.17</td>\n",
       "      <td>0.13</td>\n",
       "      <td>-0.01</td>\n",
       "      <td>0.01</td>\n",
       "      <td>2.69</td>\n",
       "    </tr>\n",
       "    <tr>\n",
       "      <th>2</th>\n",
       "      <td>1.00</td>\n",
       "      <td>-1.36</td>\n",
       "      <td>-1.34</td>\n",
       "      <td>1.77</td>\n",
       "      <td>0.38</td>\n",
       "      <td>-0.50</td>\n",
       "      <td>1.80</td>\n",
       "      <td>0.79</td>\n",
       "      <td>0.25</td>\n",
       "      <td>-1.51</td>\n",
       "      <td>0.21</td>\n",
       "      <td>0.62</td>\n",
       "      <td>0.07</td>\n",
       "      <td>0.72</td>\n",
       "      <td>-0.17</td>\n",
       "      <td>2.35</td>\n",
       "      <td>-2.89</td>\n",
       "      <td>1.11</td>\n",
       "      <td>-0.12</td>\n",
       "      <td>-2.26</td>\n",
       "      <td>0.52</td>\n",
       "      <td>0.25</td>\n",
       "      <td>0.77</td>\n",
       "      <td>0.91</td>\n",
       "      <td>-0.69</td>\n",
       "      <td>-0.33</td>\n",
       "      <td>-0.14</td>\n",
       "      <td>-0.06</td>\n",
       "      <td>-0.06</td>\n",
       "      <td>378.66</td>\n",
       "    </tr>\n",
       "    <tr>\n",
       "      <th>3</th>\n",
       "      <td>1.00</td>\n",
       "      <td>-0.97</td>\n",
       "      <td>-0.19</td>\n",
       "      <td>1.79</td>\n",
       "      <td>-0.86</td>\n",
       "      <td>-0.01</td>\n",
       "      <td>1.25</td>\n",
       "      <td>0.24</td>\n",
       "      <td>0.38</td>\n",
       "      <td>-1.39</td>\n",
       "      <td>-0.05</td>\n",
       "      <td>-0.23</td>\n",
       "      <td>0.18</td>\n",
       "      <td>0.51</td>\n",
       "      <td>-0.29</td>\n",
       "      <td>-0.63</td>\n",
       "      <td>-1.06</td>\n",
       "      <td>-0.68</td>\n",
       "      <td>1.97</td>\n",
       "      <td>-1.23</td>\n",
       "      <td>-0.21</td>\n",
       "      <td>-0.11</td>\n",
       "      <td>0.01</td>\n",
       "      <td>-0.19</td>\n",
       "      <td>-1.18</td>\n",
       "      <td>0.65</td>\n",
       "      <td>-0.22</td>\n",
       "      <td>0.06</td>\n",
       "      <td>0.06</td>\n",
       "      <td>123.50</td>\n",
       "    </tr>\n",
       "    <tr>\n",
       "      <th>4</th>\n",
       "      <td>2.00</td>\n",
       "      <td>-1.16</td>\n",
       "      <td>0.88</td>\n",
       "      <td>1.55</td>\n",
       "      <td>0.40</td>\n",
       "      <td>-0.41</td>\n",
       "      <td>0.10</td>\n",
       "      <td>0.59</td>\n",
       "      <td>-0.27</td>\n",
       "      <td>0.82</td>\n",
       "      <td>0.75</td>\n",
       "      <td>-0.82</td>\n",
       "      <td>0.54</td>\n",
       "      <td>1.35</td>\n",
       "      <td>-1.12</td>\n",
       "      <td>0.18</td>\n",
       "      <td>-0.45</td>\n",
       "      <td>-0.24</td>\n",
       "      <td>-0.04</td>\n",
       "      <td>0.80</td>\n",
       "      <td>0.41</td>\n",
       "      <td>-0.01</td>\n",
       "      <td>0.80</td>\n",
       "      <td>-0.14</td>\n",
       "      <td>0.14</td>\n",
       "      <td>-0.21</td>\n",
       "      <td>0.50</td>\n",
       "      <td>0.22</td>\n",
       "      <td>0.22</td>\n",
       "      <td>69.99</td>\n",
       "    </tr>\n",
       "  </tbody>\n",
       "</table>\n",
       "</div>"
      ],
      "text/plain": [
       "   Time    V1    V2   V3    V4    V5  ...   V24   V25   V26   V27   V28  Amount\n",
       "0  0.00 -1.36 -0.07 2.54  1.38 -0.34  ...  0.07  0.13 -0.19  0.13 -0.02  149.62\n",
       "1  0.00  1.19  0.27 0.17  0.45  0.06  ... -0.34  0.17  0.13 -0.01  0.01    2.69\n",
       "2  1.00 -1.36 -1.34 1.77  0.38 -0.50  ... -0.69 -0.33 -0.14 -0.06 -0.06  378.66\n",
       "3  1.00 -0.97 -0.19 1.79 -0.86 -0.01  ... -1.18  0.65 -0.22  0.06  0.06  123.50\n",
       "4  2.00 -1.16  0.88 1.55  0.40 -0.41  ...  0.14 -0.21  0.50  0.22  0.22   69.99\n",
       "\n",
       "[5 rows x 30 columns]"
      ]
     },
     "execution_count": 16,
     "metadata": {
      "tags": []
     },
     "output_type": "execute_result"
    }
   ],
   "source": [
    "X.head()"
   ]
  },
  {
   "cell_type": "markdown",
   "metadata": {
    "id": "CgF60crO3WPS"
   },
   "source": [
    "### Split the data to `70%` training and `30%` testing "
   ]
  },
  {
   "cell_type": "code",
   "execution_count": 17,
   "metadata": {
    "id": "pdUAJT0Iu7C3"
   },
   "outputs": [],
   "source": [
    "train_X, test_X, train_Y, test_Y = train_test_split(X, Y, test_size = 0.3, random_state = 43)"
   ]
  },
  {
   "cell_type": "code",
   "execution_count": 18,
   "metadata": {
    "colab": {
     "base_uri": "https://localhost:8080/"
    },
    "id": "ORnlnfha3Mz_",
    "outputId": "b13e1a75-cec9-4127-ff16-0643aab62474"
   },
   "outputs": [
    {
     "data": {
      "text/plain": [
       "((199364, 30), (199364,))"
      ]
     },
     "execution_count": 18,
     "metadata": {
      "tags": []
     },
     "output_type": "execute_result"
    }
   ],
   "source": [
    "train_X.shape, train_Y.shape"
   ]
  },
  {
   "cell_type": "code",
   "execution_count": 19,
   "metadata": {
    "colab": {
     "base_uri": "https://localhost:8080/"
    },
    "id": "9FamHhyw3phT",
    "outputId": "6c160af9-dd24-425d-d3c9-35c9959508e0"
   },
   "outputs": [
    {
     "data": {
      "text/plain": [
       "((85443, 30), (85443,))"
      ]
     },
     "execution_count": 19,
     "metadata": {
      "tags": []
     },
     "output_type": "execute_result"
    }
   ],
   "source": [
    "test_X.shape, test_Y.shape"
   ]
  },
  {
   "cell_type": "markdown",
   "metadata": {
    "id": "hs4zmo1i4ICs"
   },
   "source": [
    "### Using the Synthetic Sampling data to make the classes balanced"
   ]
  },
  {
   "cell_type": "code",
   "execution_count": 20,
   "metadata": {
    "id": "IY5xSz-i4AEN"
   },
   "outputs": [],
   "source": [
    "# Synthesize minority class datapoints using SMOTE\n",
    "sm = SMOTE(random_state=43, sampling_strategy='minority')\n",
    "x_train, y_train = sm.fit_resample(train_X, train_Y)\n",
    "x_train = pd.DataFrame(x_train, columns = train_X.columns)\n",
    "y_train = pd.DataFrame(y_train, columns = ['Class'])"
   ]
  },
  {
   "cell_type": "code",
   "execution_count": 21,
   "metadata": {
    "colab": {
     "base_uri": "https://localhost:8080/"
    },
    "id": "wX-je0PI49Wj",
    "outputId": "cfbf44ee-8dfc-4333-a8e8-ffb410ffa1ed"
   },
   "outputs": [
    {
     "data": {
      "text/plain": [
       "((398044, 30), (398044, 1))"
      ]
     },
     "execution_count": 21,
     "metadata": {
      "tags": []
     },
     "output_type": "execute_result"
    }
   ],
   "source": [
    "x_train.shape, y_train.shape"
   ]
  },
  {
   "cell_type": "code",
   "execution_count": 22,
   "metadata": {
    "colab": {
     "base_uri": "https://localhost:8080/"
    },
    "id": "lcXzkQRO5M-g",
    "outputId": "7ab71573-2b38-4ac1-a75d-447ddce7ff4b"
   },
   "outputs": [
    {
     "data": {
      "text/plain": [
       "1    199022\n",
       "0    199022\n",
       "Name: Class, dtype: int64"
      ]
     },
     "execution_count": 22,
     "metadata": {
      "tags": []
     },
     "output_type": "execute_result"
    }
   ],
   "source": [
    "# Individual class counts after sampling\n",
    "y_train['Class'].value_counts()"
   ]
  },
  {
   "cell_type": "code",
   "execution_count": 23,
   "metadata": {
    "colab": {
     "base_uri": "https://localhost:8080/",
     "height": 248
    },
    "id": "-EEMeevI_dn_",
    "outputId": "b3db6680-02dd-4116-c114-783f62acdde5"
   },
   "outputs": [
    {
     "data": {
      "image/png": "[encoded data removed]",
      "text/plain": [
       "<Figure size 432x288 with 1 Axes>"
      ]
     },
     "metadata": {
      "tags": []
     },
     "output_type": "display_data"
    }
   ],
   "source": [
    "# Plotting the pie chart to look for class distribution\n",
    "labels = 'Normal', 'Fraud'\n",
    "explode = (0, 0.2)\n",
    "\n",
    "fig1, ax1 = plt.subplots()\n",
    "ax1.pie(y_train['Class'].value_counts(), explode=explode, labels=labels, autopct='%1.1f%%',\n",
    "        shadow=True, startangle=60)\n",
    "ax1.axis('equal')\n",
    "plt.show()"
   ]
  },
  {
   "cell_type": "markdown",
   "metadata": {
    "id": "pKltyVZ15P1M"
   },
   "source": [
    "We can see now that the number of examples of both classes are same. Now that the data is balanced, we can go ahead and train the model."
   ]
  },
  {
   "cell_type": "markdown",
   "metadata": {
    "id": "6Hak0-KM7x9A"
   },
   "source": [
    "### Training the model with Random Forest Classifier"
   ]
  },
  {
   "cell_type": "code",
   "execution_count": 24,
   "metadata": {
    "colab": {
     "base_uri": "https://localhost:8080/"
    },
    "id": "luPGFdZn5j-T",
    "outputId": "9b988061-9d33-4469-d786-5fc215a8f607"
   },
   "outputs": [
    {
     "data": {
      "text/plain": [
       "RandomForestClassifier(bootstrap=True, ccp_alpha=0.0, class_weight=None,\n",
       "                       criterion='gini', max_depth=None, max_features='auto',\n",
       "                       max_leaf_nodes=None, max_samples=None,\n",
       "                       min_impurity_decrease=0.0, min_impurity_split=None,\n",
       "                       min_samples_leaf=1, min_samples_split=2,\n",
       "                       min_weight_fraction_leaf=0.0, n_estimators=10,\n",
       "                       n_jobs=None, oob_score=False, random_state=35, verbose=0,\n",
       "                       warm_start=False)"
      ]
     },
     "execution_count": 24,
     "metadata": {
      "tags": []
     },
     "output_type": "execute_result"
    }
   ],
   "source": [
    "clf = RandomForestClassifier(n_estimators=10, random_state = 35)\n",
    "clf.fit(x_train, y_train)"
   ]
  },
  {
   "cell_type": "code",
   "execution_count": 25,
   "metadata": {
    "colab": {
     "base_uri": "https://localhost:8080/"
    },
    "id": "kvRJISkV8ieQ",
    "outputId": "6cd1e385-f3a9-4910-f5c3-fc8ba44e8697"
   },
   "outputs": [
    {
     "data": {
      "text/plain": [
       "0.9993562960102056"
      ]
     },
     "execution_count": 25,
     "metadata": {
      "tags": []
     },
     "output_type": "execute_result"
    }
   ],
   "source": [
    "score = clf.score(test_X, test_Y)\n",
    "score"
   ]
  },
  {
   "cell_type": "code",
   "execution_count": 26,
   "metadata": {
    "colab": {
     "base_uri": "https://localhost:8080/"
    },
    "id": "FZiuc-kmx2Wm",
    "outputId": "55e75b2f-0118-4f48-935b-b1a585bf12af"
   },
   "outputs": [
    {
     "data": {
      "text/plain": [
       "(85443, 30)"
      ]
     },
     "execution_count": 26,
     "metadata": {
      "tags": []
     },
     "output_type": "execute_result"
    }
   ],
   "source": [
    "test_X.shape"
   ]
  },
  {
   "cell_type": "code",
   "execution_count": 27,
   "metadata": {
    "colab": {
     "base_uri": "https://localhost:8080/"
    },
    "id": "81Tefi6bx5qN",
    "outputId": "9f3e7973-3e3a-4a6e-9170-3ded0b562612"
   },
   "outputs": [
    {
     "data": {
      "text/plain": [
       "0"
      ]
     },
     "execution_count": 27,
     "metadata": {
      "tags": []
     },
     "output_type": "execute_result"
    }
   ],
   "source": [
    "test_X.iloc[50212].to_json(f\"{PATH}/example_1.json\") \n",
    "test_Y.iloc[50212]"
   ]
  },
  {
   "cell_type": "markdown",
   "metadata": {
    "id": "D4nxbZKw_1Ax"
   },
   "source": [
    "## Evaluation"
   ]
  },
  {
   "cell_type": "code",
   "execution_count": 28,
   "metadata": {
    "colab": {
     "base_uri": "https://localhost:8080/"
    },
    "id": "oy6G3HA__z9v",
    "outputId": "8d191336-624e-4cea-8b0c-a4c3695bf163"
   },
   "outputs": [
    {
     "name": "stdout",
     "output_type": "stream",
     "text": [
      "              precision    recall  f1-score   support\n",
      "\n",
      "           0       1.00      1.00      1.00     85293\n",
      "           1       0.84      0.78      0.81       150\n",
      "\n",
      "    accuracy                           1.00     85443\n",
      "   macro avg       0.92      0.89      0.90     85443\n",
      "weighted avg       1.00      1.00      1.00     85443\n",
      "\n"
     ]
    }
   ],
   "source": [
    "preds_y = clf.predict(test_X)\n",
    "print(classification_report(test_Y, preds_y))"
   ]
  },
  {
   "cell_type": "markdown",
   "metadata": {
    "id": "Rw2fZYCVq09V"
   },
   "source": [
    "We can see that the F1 score is high for the class 0 (`Normal`) since the data contains mostly class 0 labels. Although, we could  make the training class balanced from synthetic sampling, the F1-score for class label 1 `Fraud` is low and this shows that the synthetic data is not completely representative. "
   ]
  },
  {
   "cell_type": "markdown",
   "metadata": {
    "id": "JyUxYLsYAU7U"
   },
   "source": [
    "### Plotting Confusion matrix"
   ]
  },
  {
   "cell_type": "code",
   "execution_count": 29,
   "metadata": {
    "colab": {
     "base_uri": "https://localhost:8080/",
     "height": 279
    },
    "id": "HbjiqO5uAL8y",
    "outputId": "f5689c9d-b37e-4b33-8677-b21582c984a5"
   },
   "outputs": [
    {
     "data": {
      "image/png": "[encoded data removed]",
      "text/plain": [
       "<Figure size 432x288 with 2 Axes>"
      ]
     },
     "metadata": {
      "needs_background": "light",
      "tags": []
     },
     "output_type": "display_data"
    }
   ],
   "source": [
    "plot_confusion_matrix(clf, test_X, test_Y,\n",
    "                     cmap=plt.cm.Blues);"
   ]
  },
  {
   "cell_type": "markdown",
   "metadata": {
    "id": "vlw7gsNlAdJC"
   },
   "source": [
    "### ROC curve"
   ]
  },
  {
   "cell_type": "code",
   "execution_count": 30,
   "metadata": {
    "colab": {
     "base_uri": "https://localhost:8080/",
     "height": 295
    },
    "id": "vntScI6XAb5g",
    "outputId": "524c4150-245b-4ce1-b327-5509ec2469b2"
   },
   "outputs": [
    {
     "data": {
      "image/png": "[encoded data removed]",
      "text/plain": [
       "<Figure size 432x288 with 1 Axes>"
      ]
     },
     "metadata": {
      "needs_background": "light",
      "tags": []
     },
     "output_type": "display_data"
    }
   ],
   "source": [
    "plot_roc_curve(clf, test_X, test_Y)\n",
    "plt.xlabel('False Positive Rate')\n",
    "plt.ylabel('True Positive Rate')\n",
    "plt.title('Receiver Operating Characteristic Curve');"
   ]
  },
  {
   "cell_type": "markdown",
   "metadata": {
    "id": "VvfrZbQsssb0"
   },
   "source": [
    "This shows that the False positive rate is low."
   ]
  },
  {
   "cell_type": "markdown",
   "metadata": {
    "id": "-bRkAoqyQPrq"
   },
   "source": [
    "## Saving the model as PKL file to use for deployment\n"
   ]
  },
  {
   "cell_type": "code",
   "execution_count": 31,
   "metadata": {
    "id": "aNfxY9FTQN7z"
   },
   "outputs": [],
   "source": [
    "model_name = f\"{PATH}/fraud_detection_saved_model.pkl\"\n",
    "with open(model_name, 'wb') as file:\n",
    "    pickle.dump(clf, file)"
   ]
  },
  {
   "cell_type": "markdown",
   "metadata": {
    "id": "NqZsH4WkROsp"
   },
   "source": [
    "Test how the saved model works"
   ]
  },
  {
   "cell_type": "code",
   "execution_count": 32,
   "metadata": {
    "colab": {
     "base_uri": "https://localhost:8080/"
    },
    "id": "VFovxH9CRZEY",
    "outputId": "31bc07e6-62be-46c9-b267-b0b9752e69a3"
   },
   "outputs": [
    {
     "name": "stdout",
     "output_type": "stream",
     "text": [
      "Assignment_description.pdf  creditcard.csv.zip\tfraud_detection_saved_model.pkl\n",
      "AzureDeployment\t\t    example_1.json\n",
      "creditcard.csv\t\t    example.json\n"
     ]
    }
   ],
   "source": [
    "!ls {PATH}"
   ]
  },
  {
   "cell_type": "code",
   "execution_count": 33,
   "metadata": {
    "colab": {
     "base_uri": "https://localhost:8080/"
    },
    "id": "-6E_XcKURjG4",
    "outputId": "b31d5452-411d-4ad5-a939-7e23724e8c54"
   },
   "outputs": [
    {
     "data": {
      "text/plain": [
       "0.9993562960102056"
      ]
     },
     "execution_count": 33,
     "metadata": {
      "tags": []
     },
     "output_type": "execute_result"
    }
   ],
   "source": [
    "with open(model_name, 'rb') as file:\n",
    "    loaded_model = pickle.load(file)\n",
    "\n",
    "score = loaded_model.score(test_X, test_Y)\n",
    "score"
   ]
  },
  {
   "cell_type": "markdown",
   "metadata": {
    "id": "Ee1pqiaVs1V-"
   },
   "source": [
    "The performace is similar to the above. so the model loads fine."
   ]
  },
  {
   "cell_type": "code",
   "execution_count": 34,
   "metadata": {
    "id": "LYP-0-Rv1iXa"
   },
   "outputs": [],
   "source": [
    "transaction = {\"Time\":136231.0,\"V1\":2.0733107417,\"V2\":0.2655798048,\"V3\":-1.7455441772,\"V4\":0.492755867,\"V5\":0.2861091205,\"V6\":-1.4277091156,\"V7\":0.3109070776,\"V8\":-0.422277473,\"V9\":0.5055408401,\"V10\":-0.4889613725,\"V11\":-0.3731213816,\"V12\":0.3522908135,\"V13\":0.6560509986,\"V14\":-0.8643168613,\"V15\":0.8386093648,\"V16\":0.2153932053,\"V17\":0.3066489607,\"V18\":0.4693764397,\"V19\":-0.3803826927,\"V20\":-0.1665424744,\"V21\":0.1915518528,\"V22\":0.767661787,\"V23\":-0.0439174672,\"V24\":-0.1568634891,\"V25\":0.2954083966,\"V26\":-0.0961499255,\"V27\":0.002100626,\"V28\":-0.0317147303,\"Amount\":0.78}"
   ]
  },
  {
   "cell_type": "code",
   "execution_count": 35,
   "metadata": {
    "colab": {
     "base_uri": "https://localhost:8080/"
    },
    "id": "7-qJSrYj1rTm",
    "outputId": "e2a8bb69-d0d7-4630-9348-82167cb7a158"
   },
   "outputs": [
    {
     "data": {
      "text/plain": [
       "(array([[ 1.36231000e+05,  2.07331074e+00,  2.65579805e-01,\n",
       "         -1.74554418e+00,  4.92755867e-01,  2.86109120e-01,\n",
       "         -1.42770912e+00,  3.10907078e-01, -4.22277473e-01,\n",
       "          5.05540840e-01, -4.88961372e-01, -3.73121382e-01,\n",
       "          3.52290814e-01,  6.56050999e-01, -8.64316861e-01,\n",
       "          8.38609365e-01,  2.15393205e-01,  3.06648961e-01,\n",
       "          4.69376440e-01, -3.80382693e-01, -1.66542474e-01,\n",
       "          1.91551853e-01,  7.67661787e-01, -4.39174672e-02,\n",
       "         -1.56863489e-01,  2.95408397e-01, -9.61499255e-02,\n",
       "          2.10062600e-03, -3.17147303e-02,  7.80000000e-01]]), (1, 30))"
      ]
     },
     "execution_count": 35,
     "metadata": {
      "tags": []
     },
     "output_type": "execute_result"
    }
   ],
   "source": [
    "features = [float(x) for x in transaction.values()]\n",
    "features_np = np.array(features).reshape(1, -1)\n",
    "features_np, features_np.shape"
   ]
  },
  {
   "cell_type": "code",
   "execution_count": 36,
   "metadata": {
    "colab": {
     "base_uri": "https://localhost:8080/"
    },
    "id": "1btBn5zj2d-r",
    "outputId": "ea0ab69f-e662-4489-b4c5-cc60049048fd"
   },
   "outputs": [
    {
     "data": {
      "text/plain": [
       "0"
      ]
     },
     "execution_count": 36,
     "metadata": {
      "tags": []
     },
     "output_type": "execute_result"
    }
   ],
   "source": [
    "preds_y = clf.predict(features_np)\n",
    "preds_y[0]"
   ]
  },
  {
   "cell_type": "markdown",
   "metadata": {
    "id": "ZTNv0LR-tC00"
   },
   "source": [
    "# 3. Model Deployment"
   ]
  },
  {
   "cell_type": "markdown",
   "metadata": {
    "id": "_UJHUBJHOSs7"
   },
   "source": [
    "## Deployment Process"
   ]
  },
  {
   "cell_type": "markdown",
   "metadata": {
    "id": "DiGtF-wQOXqQ"
   },
   "source": [
    "1. First, we export the trained model as a pickle file.\n",
    "2. We need to create a REST API, which can be deployed on a server. We can pass the input through the POST method to the API endpoint and get the prediction result as an output.\n",
    "3. We can create REST API in two ways. In the first method, we can create the RESTAPI with Flask server and deploy on the cloud through AWS, Azure, Heroku services. In the second approach, We can use serverless applications like Azure Functions or AWS Lambdas to create RESTAPI endpoints. \n",
    "4. Among these two choices, the serverless application is event driven and has more advantages in situations where there is less load (frequency of API calls). For the server based applications, we need to allocate the resources  all the time even there is no load. Considering these advantages, Serverless applications seems more appropriate to our application.\n",
    "5. For the pusrpose of this assessment, I chose the Azure Functions to create the RESTAPI and deployed it on the Azure cloud. The deployed model is accessible with the POST method of requests library for the input data. \n",
    "6. For handling missing data, if any of the feature or feature's value is missing, it's replaced with a zero. If there are any other issues, the API throws an exception and raises an error."
   ]
  },
  {
   "cell_type": "markdown",
   "metadata": {
    "id": "JFAg40IMlq2m"
   },
   "source": [
    "## A sample example to call the deployed model is shown below. "
   ]
  },
  {
   "cell_type": "code",
   "execution_count": 38,
   "metadata": {
    "colab": {
     "base_uri": "https://localhost:8080/"
    },
    "id": "t2IUBhneOO_B",
    "outputId": "5ef5c44f-7dda-4311-d6af-873360f3fa21"
   },
   "outputs": [
    {
     "name": "stdout",
     "output_type": "stream",
     "text": [
      "Output message of model: {'message': '[!] The transaction seems Fraud.'}\n",
      "Time for inference: 0.739464521408081\n"
     ]
    }
   ],
   "source": [
    "# Importing the Libraries\n",
    "import requests\n",
    "import time\n",
    "\n",
    "# Taking an example Fraud data\n",
    "data ={\"Time\":7672.0,\"V1\":0.7027099001,\"V2\":2.426432806,\"V3\":-5.2345132958,\"V4\":4.4166612429,\"V5\":-2.1708062159,\"V6\":-2.6675535612,\"V7\":-3.8780884548,\"V8\":0.9113371222,\"V9\":-0.1661990392,\"V10\":-5.0092485021,\"V11\":4.6757294187,\"V12\":-8.1671880517,\"V13\":0.6385592822,\"V14\":-6.7633343906,\"V15\":1.2968602561,\"V16\":-3.8117584098,\"V17\":-3.7541280662,\"V18\":-1.0491774023,\"V19\":1.5541972635,\"V20\":0.4227431292,\"V21\":0.5511796891,\"V22\":-0.0098023573,\"V23\":0.7216982301,\"V24\":0.4732457514,\"V25\":-1.9593037712,\"V26\":0.3194755401,\"V27\":0.6004849165,\"V28\":0.1293052251,\"Amount\":None}\n",
    "\n",
    "start_time = time.time()\n",
    "\n",
    "# API END point link\n",
    "api_link=\"http://credit-card-fraud-detection-sgsco-assigment.azurewebsites.net/api/creditcarddetect?code=1eNO9BbElrM5ebEPo7TQQg3hQNYeTlzVzFGaxAjo2z8aYtptsbBsmQ==\"\n",
    "\n",
    "# Calling the API with POST method.\n",
    "output=requests.post(api_link, json=data)\n",
    "total_time = time.time()-start_time\n",
    "\n",
    "# Printing the output message\n",
    "print(\"Output message of model:\", output.json())\n",
    "print(\"Time for inference:\", total_time)"
   ]
  },
  {
   "cell_type": "markdown",
   "metadata": {
    "id": "06f-gRPG4y7j"
   },
   "source": [
    "The output message shows that the transaction is Fraud, which is correct."
   ]
  },
  {
   "cell_type": "markdown",
   "metadata": {
    "id": "VkJpf1sY6uqW"
   },
   "source": [
    "# 4. Conclusion"
   ]
  },
  {
   "cell_type": "markdown",
   "metadata": {
    "id": "GaTh896Z42bv"
   },
   "source": [
    "In conclusion, we have developed a Random Forest model to predict whether a given credit card transaction is Fraud or Normal. The developed Model was then successfully deployed to the Azure Cloud as a REST API with the Azure functions. The deployed model is then accessed with the POST request and the prediction is produced as an output."
   ]
  },
  {
   "cell_type": "markdown",
   "metadata": {
    "id": "yiJSzdbp3oJD"
   },
   "source": [
    "References:\n",
    "1. https://www.kaggle.com/bakar31/simple-model-works-better-sometime\n",
    "2. https://www.kaggle.com/dishrah/creditcard-fraud-detection\n",
    "3. https://www.kaggle.com/renjithmadhavan/credit-card-fraud-detection-using-python\n",
    "4. https://youtu.be/UFxQhszT450\n",
    "5. https://azure.microsoft.com/en-ca/services/functions/#overview"
   ]
  },
  {
   "cell_type": "markdown",
   "metadata": {
    "id": "qjJJFKNVwA_r"
   },
   "source": [
    "\n",
    "\n",
    "```\n",
    "# This is formatted as code\n",
    "```\n",
    "\n"
   ]
  }
 ],
 "metadata": {
  "colab": {
   "name": "CreditCardFraudDetection.ipynb",
   "provenance": []
  },
  "kernelspec": {
   "display_name": "Python 3",
   "language": "python",
   "name": "python3"
  },
  "language_info": {
   "codemirror_mode": {
    "name": "ipython",
    "version": 3
   },
   "file_extension": ".py",
   "mimetype": "text/x-python",
   "name": "python",
   "nbconvert_exporter": "python",
   "pygments_lexer": "ipython3",
   "version": "3.6.4"
  }
 },
 "nbformat": 4,
 "nbformat_minor": 1
}
